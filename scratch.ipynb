{
 "cells": [
  {
   "cell_type": "code",
   "execution_count": 1,
   "metadata": {},
   "outputs": [
    {
     "ename": "RegexMatchError",
     "evalue": "__init__: could not find match for ^\\w+\\W",
     "output_type": "error",
     "traceback": [
      "\u001b[0;31m---------------------------------------------------------------------------\u001b[0m",
      "\u001b[0;31mRegexMatchError\u001b[0m                           Traceback (most recent call last)",
      "File \u001b[0;32m/Library/Frameworks/Python.framework/Versions/3.11/lib/python3.11/site-packages/pytube/__main__.py:181\u001b[0m, in \u001b[0;36mYouTube.fmt_streams\u001b[0;34m(self)\u001b[0m\n\u001b[1;32m    180\u001b[0m \u001b[39mtry\u001b[39;00m:\n\u001b[0;32m--> 181\u001b[0m     extract\u001b[39m.\u001b[39;49mapply_signature(stream_manifest, \u001b[39mself\u001b[39;49m\u001b[39m.\u001b[39;49mvid_info, \u001b[39mself\u001b[39;49m\u001b[39m.\u001b[39;49mjs)\n\u001b[1;32m    182\u001b[0m \u001b[39mexcept\u001b[39;00m exceptions\u001b[39m.\u001b[39mExtractError:\n\u001b[1;32m    183\u001b[0m     \u001b[39m# To force an update to the js file, we clear the cache and retry\u001b[39;00m\n",
      "File \u001b[0;32m/Library/Frameworks/Python.framework/Versions/3.11/lib/python3.11/site-packages/pytube/extract.py:409\u001b[0m, in \u001b[0;36mapply_signature\u001b[0;34m(stream_manifest, vid_info, js)\u001b[0m\n\u001b[1;32m    401\u001b[0m \u001b[39m\u001b[39m\u001b[39m\"\"\"Apply the decrypted signature to the stream manifest.\u001b[39;00m\n\u001b[1;32m    402\u001b[0m \n\u001b[1;32m    403\u001b[0m \u001b[39m:param dict stream_manifest:\u001b[39;00m\n\u001b[0;32m   (...)\u001b[0m\n\u001b[1;32m    407\u001b[0m \n\u001b[1;32m    408\u001b[0m \u001b[39m\"\"\"\u001b[39;00m\n\u001b[0;32m--> 409\u001b[0m cipher \u001b[39m=\u001b[39m Cipher(js\u001b[39m=\u001b[39;49mjs)\n\u001b[1;32m    411\u001b[0m \u001b[39mfor\u001b[39;00m i, stream \u001b[39min\u001b[39;00m \u001b[39menumerate\u001b[39m(stream_manifest):\n",
      "File \u001b[0;32m/Library/Frameworks/Python.framework/Versions/3.11/lib/python3.11/site-packages/pytube/cipher.py:33\u001b[0m, in \u001b[0;36mCipher.__init__\u001b[0;34m(self, js)\u001b[0m\n\u001b[1;32m     32\u001b[0m \u001b[39mif\u001b[39;00m \u001b[39mnot\u001b[39;00m var_match:\n\u001b[0;32m---> 33\u001b[0m     \u001b[39mraise\u001b[39;00m RegexMatchError(\n\u001b[1;32m     34\u001b[0m         caller\u001b[39m=\u001b[39m\u001b[39m\"\u001b[39m\u001b[39m__init__\u001b[39m\u001b[39m\"\u001b[39m, pattern\u001b[39m=\u001b[39mvar_regex\u001b[39m.\u001b[39mpattern\n\u001b[1;32m     35\u001b[0m     )\n\u001b[1;32m     36\u001b[0m var \u001b[39m=\u001b[39m var_match\u001b[39m.\u001b[39mgroup(\u001b[39m0\u001b[39m)[:\u001b[39m-\u001b[39m\u001b[39m1\u001b[39m]\n",
      "\u001b[0;31mRegexMatchError\u001b[0m: __init__: could not find match for ^\\w+\\W",
      "\nDuring handling of the above exception, another exception occurred:\n",
      "\u001b[0;31mRegexMatchError\u001b[0m                           Traceback (most recent call last)",
      "Cell \u001b[0;32mIn[1], line 13\u001b[0m\n\u001b[1;32m      9\u001b[0m youtube_link \u001b[39m=\u001b[39m \u001b[39m'\u001b[39m\u001b[39mhttps://www.youtube.com/watch?v=1IsSeOYqVFQ\u001b[39m\u001b[39m'\u001b[39m\n\u001b[1;32m     12\u001b[0m yt \u001b[39m=\u001b[39m pytube\u001b[39m.\u001b[39mYouTube(youtube_link)\n\u001b[0;32m---> 13\u001b[0m stream \u001b[39m=\u001b[39m yt\u001b[39m.\u001b[39;49mstreams\u001b[39m.\u001b[39mfilter(only_audio\u001b[39m=\u001b[39m\u001b[39mTrue\u001b[39;00m)\u001b[39m.\u001b[39mfirst()\n",
      "File \u001b[0;32m/Library/Frameworks/Python.framework/Versions/3.11/lib/python3.11/site-packages/pytube/__main__.py:296\u001b[0m, in \u001b[0;36mYouTube.streams\u001b[0;34m(self)\u001b[0m\n\u001b[1;32m    291\u001b[0m \u001b[39m\u001b[39m\u001b[39m\"\"\"Interface to query both adaptive (DASH) and progressive streams.\u001b[39;00m\n\u001b[1;32m    292\u001b[0m \n\u001b[1;32m    293\u001b[0m \u001b[39m:rtype: :class:`StreamQuery <StreamQuery>`.\u001b[39;00m\n\u001b[1;32m    294\u001b[0m \u001b[39m\"\"\"\u001b[39;00m\n\u001b[1;32m    295\u001b[0m \u001b[39mself\u001b[39m\u001b[39m.\u001b[39mcheck_availability()\n\u001b[0;32m--> 296\u001b[0m \u001b[39mreturn\u001b[39;00m StreamQuery(\u001b[39mself\u001b[39;49m\u001b[39m.\u001b[39;49mfmt_streams)\n",
      "File \u001b[0;32m/Library/Frameworks/Python.framework/Versions/3.11/lib/python3.11/site-packages/pytube/__main__.py:188\u001b[0m, in \u001b[0;36mYouTube.fmt_streams\u001b[0;34m(self)\u001b[0m\n\u001b[1;32m    186\u001b[0m     pytube\u001b[39m.\u001b[39m__js__ \u001b[39m=\u001b[39m \u001b[39mNone\u001b[39;00m\n\u001b[1;32m    187\u001b[0m     pytube\u001b[39m.\u001b[39m__js_url__ \u001b[39m=\u001b[39m \u001b[39mNone\u001b[39;00m\n\u001b[0;32m--> 188\u001b[0m     extract\u001b[39m.\u001b[39;49mapply_signature(stream_manifest, \u001b[39mself\u001b[39;49m\u001b[39m.\u001b[39;49mvid_info, \u001b[39mself\u001b[39;49m\u001b[39m.\u001b[39;49mjs)\n\u001b[1;32m    190\u001b[0m \u001b[39m# build instances of :class:`Stream <Stream>`\u001b[39;00m\n\u001b[1;32m    191\u001b[0m \u001b[39m# Initialize stream objects\u001b[39;00m\n\u001b[1;32m    192\u001b[0m \u001b[39mfor\u001b[39;00m stream \u001b[39min\u001b[39;00m stream_manifest:\n",
      "File \u001b[0;32m/Library/Frameworks/Python.framework/Versions/3.11/lib/python3.11/site-packages/pytube/extract.py:409\u001b[0m, in \u001b[0;36mapply_signature\u001b[0;34m(stream_manifest, vid_info, js)\u001b[0m\n\u001b[1;32m    400\u001b[0m \u001b[39mdef\u001b[39;00m \u001b[39mapply_signature\u001b[39m(stream_manifest: Dict, vid_info: Dict, js: \u001b[39mstr\u001b[39m) \u001b[39m-\u001b[39m\u001b[39m>\u001b[39m \u001b[39mNone\u001b[39;00m:\n\u001b[1;32m    401\u001b[0m \u001b[39m    \u001b[39m\u001b[39m\"\"\"Apply the decrypted signature to the stream manifest.\u001b[39;00m\n\u001b[1;32m    402\u001b[0m \n\u001b[1;32m    403\u001b[0m \u001b[39m    :param dict stream_manifest:\u001b[39;00m\n\u001b[0;32m   (...)\u001b[0m\n\u001b[1;32m    407\u001b[0m \n\u001b[1;32m    408\u001b[0m \u001b[39m    \"\"\"\u001b[39;00m\n\u001b[0;32m--> 409\u001b[0m     cipher \u001b[39m=\u001b[39m Cipher(js\u001b[39m=\u001b[39;49mjs)\n\u001b[1;32m    411\u001b[0m     \u001b[39mfor\u001b[39;00m i, stream \u001b[39min\u001b[39;00m \u001b[39menumerate\u001b[39m(stream_manifest):\n\u001b[1;32m    412\u001b[0m         \u001b[39mtry\u001b[39;00m:\n",
      "File \u001b[0;32m/Library/Frameworks/Python.framework/Versions/3.11/lib/python3.11/site-packages/pytube/cipher.py:33\u001b[0m, in \u001b[0;36mCipher.__init__\u001b[0;34m(self, js)\u001b[0m\n\u001b[1;32m     31\u001b[0m var_match \u001b[39m=\u001b[39m var_regex\u001b[39m.\u001b[39msearch(\u001b[39mself\u001b[39m\u001b[39m.\u001b[39mtransform_plan[\u001b[39m0\u001b[39m])\n\u001b[1;32m     32\u001b[0m \u001b[39mif\u001b[39;00m \u001b[39mnot\u001b[39;00m var_match:\n\u001b[0;32m---> 33\u001b[0m     \u001b[39mraise\u001b[39;00m RegexMatchError(\n\u001b[1;32m     34\u001b[0m         caller\u001b[39m=\u001b[39m\u001b[39m\"\u001b[39m\u001b[39m__init__\u001b[39m\u001b[39m\"\u001b[39m, pattern\u001b[39m=\u001b[39mvar_regex\u001b[39m.\u001b[39mpattern\n\u001b[1;32m     35\u001b[0m     )\n\u001b[1;32m     36\u001b[0m var \u001b[39m=\u001b[39m var_match\u001b[39m.\u001b[39mgroup(\u001b[39m0\u001b[39m)[:\u001b[39m-\u001b[39m\u001b[39m1\u001b[39m]\n\u001b[1;32m     37\u001b[0m \u001b[39mself\u001b[39m\u001b[39m.\u001b[39mtransform_map \u001b[39m=\u001b[39m get_transform_map(js, var)\n",
      "\u001b[0;31mRegexMatchError\u001b[0m: __init__: could not find match for ^\\w+\\W"
     ]
    }
   ],
   "source": [
    "import soundfile\n",
    "import pytube\n",
    "import ssl\n",
    "\n",
    "ssl_context = ssl.create_default_context()\n",
    "ssl_context.check_hostname = False\n",
    "ssl_context.verify_mode = ssl.CERT_NONE\n",
    "ssl._create_default_https_context = ssl._create_unverified_context\n",
    "youtube_link = 'https://www.youtube.com/watch?v=1IsSeOYqVFQ'\n",
    "\n",
    "\n",
    "yt = pytube.YouTube(youtube_link)\n",
    "stream = yt.streams.filter(only_audio=True).first()"
   ]
  },
  {
   "cell_type": "code",
   "execution_count": null,
   "metadata": {},
   "outputs": [],
   "source": []
  }
 ],
 "metadata": {
  "kernelspec": {
   "display_name": "Python 3",
   "language": "python",
   "name": "python3"
  },
  "language_info": {
   "codemirror_mode": {
    "name": "ipython",
    "version": 3
   },
   "file_extension": ".py",
   "mimetype": "text/x-python",
   "name": "python",
   "nbconvert_exporter": "python",
   "pygments_lexer": "ipython3",
   "version": "3.11.3"
  },
  "orig_nbformat": 4
 },
 "nbformat": 4,
 "nbformat_minor": 2
}
