{
 "cells": [
  {
   "cell_type": "code",
   "execution_count": 32,
   "metadata": {},
   "outputs": [],
   "source": [
    "import os\n",
    "import librosa\n",
    "import numpy as np\n",
    "import pandas as pd\n",
    "\n",
    "from sklearn.svm import SVC\n",
    "from sklearn.preprocessing import StandardScaler\n",
    "from sklearn.model_selection import train_test_split\n",
    "from sklearn.metrics import accuracy_score\n",
    "import pickle \n",
    "import json\n",
    "from io import BytesIO\n",
    "\n",
    "\n",
    "file_path = '/users/seanmullins333/desktop/Heart.mp3'\n",
    "\n",
    "\n",
    "final_json = {\n",
    "            'MFCCs': [],\n",
    "            'Spec_Con': [] }\n",
    "\n",
    "with open('mlp_model2.pkl', 'rb') as file:\n",
    "    model = pickle.load(file)\n",
    "        \n",
    "with open('SVM-scaler', 'rb') as file:\n",
    "    scaler = pickle.load(file)\n",
    "    \n",
    "with open('SVM-key', 'r') as file:\n",
    "    SVM_key = json.load(file)\n",
    "\n",
    "n_mfcc = 40\n",
    "\n",
    "y, sr = librosa.load(file_path, sr=None, offset=30, duration=100)\n",
    "\n",
    "mfccs = librosa.feature.mfcc(y=y, sr=sr, n_mfcc=n_mfcc)\n",
    "\n",
    "sc = librosa.feature.spectral_contrast(y=y, sr=sr)  \n",
    "\n",
    "final_json['MFCCs'].append(mfccs)\n",
    "final_json['Spec_Con'].append(sc)\n",
    "\n",
    "mfcc_df_mean = pd.DataFrame(np.mean(final_json['MFCCs'][0], axis=1)).transpose()\n",
    "mfcc_df_var = pd.DataFrame(np.var(final_json['MFCCs'][0], axis=1)).transpose()\n",
    "\n",
    "sc_df = pd.DataFrame([np.mean(inner_array, axis=1) for inner_array in final_json['Spec_Con']])\n",
    "mfcc_df = mfcc_df_mean.merge(mfcc_df_var, how='left', left_index=True, right_index=True)\n",
    "mfcc_df = mfcc_df.merge(sc_df, how='left', left_index=True, right_index=True)\n",
    "new_column_names = ['Column' + str(i+1) for i in range(len(mfcc_df.columns))]\n",
    "mfcc_df.columns = new_column_names\n",
    "\n",
    "mfcc_df_scaled = scaler.transform(mfcc_df)\n",
    "\n",
    "y_pred = model.predict(mfcc_df_scaled)\n",
    "y_proba = model.predict_proba(mfcc_df_scaled)\n",
    "\n",
    "max_proba = round(y_proba.max() * 100, 2)\n",
    "\n",
    "keys = [key for key, value in SVM_key.items() if value == y_pred[0]]\n",
    "\n",
    "if keys is None:\n",
    "    keys = ''\n",
    "\n",
    "else:\n",
    "    pass    \n",
    "\n"
   ]
  },
  {
   "cell_type": "code",
   "execution_count": 33,
   "metadata": {
    "scrolled": true
   },
   "outputs": [
    {
     "data": {
      "text/html": [
       "<div>\n",
       "<style scoped>\n",
       "    .dataframe tbody tr th:only-of-type {\n",
       "        vertical-align: middle;\n",
       "    }\n",
       "\n",
       "    .dataframe tbody tr th {\n",
       "        vertical-align: top;\n",
       "    }\n",
       "\n",
       "    .dataframe thead th {\n",
       "        text-align: right;\n",
       "    }\n",
       "</style>\n",
       "<table border=\"1\" class=\"dataframe\">\n",
       "  <thead>\n",
       "    <tr style=\"text-align: right;\">\n",
       "      <th></th>\n",
       "      <th>0</th>\n",
       "      <th>1</th>\n",
       "      <th>2</th>\n",
       "      <th>3</th>\n",
       "      <th>4</th>\n",
       "      <th>5</th>\n",
       "      <th>6</th>\n",
       "      <th>7</th>\n",
       "      <th>8</th>\n",
       "    </tr>\n",
       "  </thead>\n",
       "  <tbody>\n",
       "    <tr>\n",
       "      <th>0</th>\n",
       "      <td>0.041956</td>\n",
       "      <td>0.046316</td>\n",
       "      <td>0.026147</td>\n",
       "      <td>0.008214</td>\n",
       "      <td>0.0028</td>\n",
       "      <td>0.014203</td>\n",
       "      <td>0.025593</td>\n",
       "      <td>0.150241</td>\n",
       "      <td>0.68453</td>\n",
       "    </tr>\n",
       "  </tbody>\n",
       "</table>\n",
       "</div>"
      ],
      "text/plain": [
       "          0         1         2         3       4         5         6   \n",
       "0  0.041956  0.046316  0.026147  0.008214  0.0028  0.014203  0.025593  \\\n",
       "\n",
       "          7        8  \n",
       "0  0.150241  0.68453  "
      ]
     },
     "execution_count": 33,
     "metadata": {},
     "output_type": "execute_result"
    }
   ],
   "source": [
    "pd.DataFrame(y_proba)"
   ]
  },
  {
   "cell_type": "code",
   "execution_count": null,
   "metadata": {},
   "outputs": [],
   "source": []
  }
 ],
 "metadata": {
  "kernelspec": {
   "display_name": "Python 3 (ipykernel)",
   "language": "python",
   "name": "python3"
  },
  "language_info": {
   "codemirror_mode": {
    "name": "ipython",
    "version": 3
   },
   "file_extension": ".py",
   "mimetype": "text/x-python",
   "name": "python",
   "nbconvert_exporter": "python",
   "pygments_lexer": "ipython3",
   "version": "3.11.3"
  }
 },
 "nbformat": 4,
 "nbformat_minor": 2
}
