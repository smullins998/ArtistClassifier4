{
 "cells": [
  {
   "cell_type": "code",
   "execution_count": 1,
   "metadata": {},
   "outputs": [],
   "source": [
    "\n"
   ]
  },
  {
   "cell_type": "code",
   "execution_count": 1,
   "metadata": {},
   "outputs": [
    {
     "name": "stdout",
     "output_type": "stream",
     "text": [
      "[youtube] Extracting URL: https://www.youtube.com/watch?v=HKA2-M2LYi4\n",
      "[youtube] HKA2-M2LYi4: Downloading webpage\n",
      "[youtube] HKA2-M2LYi4: Downloading ios player API JSON\n",
      "[youtube] HKA2-M2LYi4: Downloading android player API JSON\n",
      "[youtube] HKA2-M2LYi4: Downloading m3u8 information\n",
      "[info] HKA2-M2LYi4: Downloading 1 format(s): 251\n",
      "[download] Destination: AI Drake- Winters Cold (Unreleased) [HKA2-M2LYi4].webm\n",
      "[download] 100% of    3.42MiB in 00:00:00 at 9.18MiB/s   \n",
      "[ExtractAudio] Destination: AI Drake- Winters Cold (Unreleased) [HKA2-M2LYi4].mp3\n",
      "Deleting original file AI Drake- Winters Cold (Unreleased) [HKA2-M2LYi4].webm (pass -k to keep)\n"
     ]
    }
   ],
   "source": [
    "import yt_dlp\n",
    "\n",
    "video_url = \"https://www.youtube.com/watch?v=HKA2-M2LYi4\"\n",
    "\n",
    "ydl_opts = {\n",
    "    'format': 'bestaudio/best',\n",
    "    'postprocessors': [{\n",
    "        'key': 'FFmpegExtractAudio',\n",
    "        'preferredcodec': 'mp3',\n",
    "        'preferredquality': '192',\n",
    "    }],\n",
    "}\n",
    "\n",
    "with yt_dlp.YoutubeDL(ydl_opts) as ydl:\n",
    "    info_dict = ydl.extract_info('https://www.youtube.com/watch?v=U7qjVNnpSwg', download=True)\n",
    "    filename = ydl.prepare_filename(info_dict) \n",
    "    actual_file = filename[0:-4] + 'mp3'\n",
    "    \n",
    "    "
   ]
  },
  {
   "cell_type": "code",
   "execution_count": 4,
   "metadata": {},
   "outputs": [
    {
     "name": "stdout",
     "output_type": "stream",
     "text": [
      "[youtube] Extracting URL: https://www.youtube.com/watch?v=U7qjVNnpSwg\n",
      "[youtube] U7qjVNnpSwg: Downloading webpage\n",
      "[youtube] U7qjVNnpSwg: Downloading ios player API JSON\n",
      "[youtube] U7qjVNnpSwg: Downloading android player API JSON\n",
      "[youtube] U7qjVNnpSwg: Downloading m3u8 information\n",
      "[info] U7qjVNnpSwg: Downloading 1 format(s): 251\n",
      "[download] Destination: Drake AI - On My Name [U7qjVNnpSwg].webm\n",
      "[download] 100% of    2.68MiB in 00:00:00 at 17.16MiB/s  \n",
      "[ExtractAudio] Destination: Drake AI - On My Name [U7qjVNnpSwg].mp3\n",
      "Deleting original file Drake AI - On My Name [U7qjVNnpSwg].webm (pass -k to keep)\n",
      "Downloaded file: Drake AI - On My Name [U7qjVNnpSwg].webm\n"
     ]
    }
   ],
   "source": []
  },
  {
   "cell_type": "code",
   "execution_count": 6,
   "metadata": {},
   "outputs": [
    {
     "data": {
      "text/plain": [
       "'Drake AI - On My Name [U7qjVNnpSwg].mp3'"
      ]
     },
     "execution_count": 6,
     "metadata": {},
     "output_type": "execute_result"
    }
   ],
   "source": []
  },
  {
   "cell_type": "code",
   "execution_count": 3,
   "metadata": {},
   "outputs": [],
   "source": [
    "import pickle\n",
    "import json\n",
    "\n",
    "with open('mlp_model.pkl', 'rb') as file:\n",
    "    model = pickle.load(file)\n",
    "        \n",
    "with open('SVM-scaler', 'rb') as file:\n",
    "    scaler = pickle.load(file)\n",
    "    \n",
    "with open('SVM-key', 'r') as file:\n",
    "    SVM_key = json.load(file)"
   ]
  },
  {
   "cell_type": "code",
   "execution_count": null,
   "metadata": {},
   "outputs": [],
   "source": []
  }
 ],
 "metadata": {
  "kernelspec": {
   "display_name": "Python 3 (ipykernel)",
   "language": "python",
   "name": "python3"
  },
  "language_info": {
   "codemirror_mode": {
    "name": "ipython",
    "version": 3
   },
   "file_extension": ".py",
   "mimetype": "text/x-python",
   "name": "python",
   "nbconvert_exporter": "python",
   "pygments_lexer": "ipython3",
   "version": "3.11.3"
  }
 },
 "nbformat": 4,
 "nbformat_minor": 2
}
